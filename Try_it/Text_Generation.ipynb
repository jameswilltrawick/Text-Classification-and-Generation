{
 "cells": [
  {
   "cell_type": "markdown",
   "metadata": {
    "colab_type": "text",
    "id": "8U7wFRtcTpcX"
   },
   "source": [
    "This code is based off of code by Max Woolf who built the gpt-2 wrapper we are using"
   ]
  },
  {
   "cell_type": "code",
   "execution_count": 1,
   "metadata": {
    "colab": {
     "base_uri": "https://localhost:8080/",
     "height": 187
    },
    "colab_type": "code",
    "id": "Nj2cUuJjTdIc",
    "outputId": "c89c55e9-7f28-4b97-caad-9d4466e24edc"
   },
   "outputs": [
    {
     "name": "stderr",
     "output_type": "stream",
     "text": [
      "UsageError: Line magic function `%tensorflow_version` not found.\n"
     ]
    }
   ],
   "source": [
    "%tensorflow_version 1.x\n",
    "!pip install -q gpt-2-simple\n",
    "import gpt_2_simple as gpt2\n",
    "from datetime import datetime\n",
    "from google.colab import files"
   ]
  },
  {
   "cell_type": "markdown",
   "metadata": {
    "colab_type": "text",
    "id": "9WsLMuiLTmS9"
   },
   "source": [
    "Download model to train"
   ]
  },
  {
   "cell_type": "code",
   "execution_count": 2,
   "metadata": {
    "colab": {
     "base_uri": "https://localhost:8080/",
     "height": 136
    },
    "colab_type": "code",
    "id": "nJkIw18-TkmI",
    "outputId": "d43238f7-51db-4c4c-f124-4a2d35efa2aa"
   },
   "outputs": [
    {
     "name": "stderr",
     "output_type": "stream",
     "text": [
      "Fetching checkpoint: 1.05Mit [00:00, 245Mit/s]                                                      \n",
      "Fetching encoder.json: 1.05Mit [00:00, 93.2Mit/s]                                                   \n",
      "Fetching hparams.json: 1.05Mit [00:00, 260Mit/s]                                                    \n",
      "Fetching model.ckpt.data-00000-of-00001: 498Mit [00:02, 197Mit/s]                                   \n",
      "Fetching model.ckpt.index: 1.05Mit [00:00, 278Mit/s]                                                \n",
      "Fetching model.ckpt.meta: 1.05Mit [00:00, 100Mit/s]                                                 \n",
      "Fetching vocab.bpe: 1.05Mit [00:00, 140Mit/s]                                                       \n"
     ]
    }
   ],
   "source": [
    "gpt2.download_gpt2(model_name=\"124M\")"
   ]
  },
  {
   "cell_type": "markdown",
   "metadata": {
    "colab_type": "text",
    "id": "Z1j8A5q_FwMv"
   },
   "source": [
    "Mount Drive to access file"
   ]
  },
  {
   "cell_type": "code",
   "execution_count": 3,
   "metadata": {
    "colab": {
     "base_uri": "https://localhost:8080/",
     "height": 34
    },
    "colab_type": "code",
    "id": "ohg7lnMVVMcv",
    "outputId": "5687afcc-edf4-44b5-f0cd-91aa0f9b6702"
   },
   "outputs": [
    {
     "name": "stdout",
     "output_type": "stream",
     "text": [
      "Drive already mounted at /content/drive; to attempt to forcibly remount, call drive.mount(\"/content/drive\", force_remount=True).\n"
     ]
    }
   ],
   "source": [
    "gpt2.mount_gdrive()"
   ]
  },
  {
   "cell_type": "markdown",
   "metadata": {
    "colab_type": "text",
    "id": "Pjgg6QELF1IP"
   },
   "source": [
    "Make sure file path is correct in order to load training file"
   ]
  },
  {
   "cell_type": "code",
   "execution_count": 0,
   "metadata": {
    "colab": {},
    "colab_type": "code",
    "id": "25N5AcK2VPOT"
   },
   "outputs": [],
   "source": [
    "genre = \"Pop\"\n",
    "file_name = genre + \".txt\"\n",
    "gpt2.copy_file_from_gdrive(file_name)"
   ]
  },
  {
   "cell_type": "markdown",
   "metadata": {
    "colab_type": "text",
    "id": "5l_8w5IPGeyp"
   },
   "source": [
    "Fine tune model, can change hyperparaters in call"
   ]
  },
  {
   "cell_type": "code",
   "execution_count": 5,
   "metadata": {
    "colab": {
     "base_uri": "https://localhost:8080/",
     "height": 258
    },
    "colab_type": "code",
    "id": "Mh1B6dV3VWYR",
    "outputId": "b07650b3-93a5-47de-c5c0-d0ce9718733a"
   },
   "outputs": [
    {
     "name": "stdout",
     "output_type": "stream",
     "text": [
      "WARNING:tensorflow:From /usr/local/lib/python3.6/dist-packages/gpt_2_simple/src/sample.py:17: where (from tensorflow.python.ops.array_ops) is deprecated and will be removed in a future version.\n",
      "Instructions for updating:\n",
      "Use tf.where in 2.0, which has the same broadcast rule as np.where\n",
      "Loading checkpoint models/124M/model.ckpt\n",
      "INFO:tensorflow:Restoring parameters from models/124M/model.ckpt\n"
     ]
    },
    {
     "name": "stderr",
     "output_type": "stream",
     "text": [
      "\r",
      "  0%|          | 0/1 [00:00<?, ?it/s]"
     ]
    },
    {
     "name": "stdout",
     "output_type": "stream",
     "text": [
      "Loading dataset...\n"
     ]
    },
    {
     "name": "stderr",
     "output_type": "stream",
     "text": [
      "100%|██████████| 1/1 [00:01<00:00,  1.81s/it]\n"
     ]
    },
    {
     "name": "stdout",
     "output_type": "stream",
     "text": [
      "dataset has 364093 tokens\n",
      "Training...\n",
      "[10 | 1056.38] loss=2.32 avg=2.32\n",
      "[20 | 2106.49] loss=1.79 avg=2.05\n",
      "interrupted\n",
      "Saving checkpoint/Pop/model-21\n"
     ]
    }
   ],
   "source": [
    "sess = gpt2.start_tf_sess()\n",
    "\n",
    "gpt2.finetune(sess,\n",
    "              dataset=file_name,\n",
    "              model_name='124M',\n",
    "              steps=1000,\n",
    "              restore_from='fresh',\n",
    "              run_name= genre,\n",
    "              print_every=10,\n",
    "              sample_every=200,\n",
    "              save_every=500,\n",
    "              )"
   ]
  },
  {
   "cell_type": "markdown",
   "metadata": {
    "colab_type": "text",
    "id": "G_4zw4bhG2P8"
   },
   "source": [
    "Copy file to memory to load later"
   ]
  },
  {
   "cell_type": "code",
   "execution_count": 6,
   "metadata": {
    "colab": {
     "base_uri": "https://localhost:8080/",
     "height": 307
    },
    "colab_type": "code",
    "id": "7AIu92YUVp6l",
    "outputId": "f12af5bc-0b69-4833-e174-db95694b7980"
   },
   "outputs": [
    {
     "ename": "KeyboardInterrupt",
     "evalue": "ignored",
     "output_type": "error",
     "traceback": [
      "\u001b[0;31m---------------------------------------------------------------------------\u001b[0m",
      "\u001b[0;31mKeyboardInterrupt\u001b[0m                         Traceback (most recent call last)",
      "\u001b[0;32m<ipython-input-6-e06a98851056>\u001b[0m in \u001b[0;36m<module>\u001b[0;34m()\u001b[0m\n\u001b[0;32m----> 1\u001b[0;31m \u001b[0mgpt2\u001b[0m\u001b[0;34m.\u001b[0m\u001b[0mcopy_checkpoint_to_gdrive\u001b[0m\u001b[0;34m(\u001b[0m\u001b[0mrun_name\u001b[0m\u001b[0;34m=\u001b[0m\u001b[0;34m'Pop'\u001b[0m\u001b[0;34m)\u001b[0m\u001b[0;34m\u001b[0m\u001b[0;34m\u001b[0m\u001b[0m\n\u001b[0m",
      "\u001b[0;32m/usr/local/lib/python3.6/dist-packages/gpt_2_simple/gpt_2.py\u001b[0m in \u001b[0;36mcopy_checkpoint_to_gdrive\u001b[0;34m(run_name, copy_folder)\u001b[0m\n\u001b[1;32m    578\u001b[0m         \u001b[0;31m# Reference: https://stackoverflow.com/a/17081026\u001b[0m\u001b[0;34m\u001b[0m\u001b[0;34m\u001b[0m\u001b[0;34m\u001b[0m\u001b[0m\n\u001b[1;32m    579\u001b[0m         \u001b[0;32mwith\u001b[0m \u001b[0mtarfile\u001b[0m\u001b[0;34m.\u001b[0m\u001b[0mopen\u001b[0m\u001b[0;34m(\u001b[0m\u001b[0mfile_path\u001b[0m\u001b[0;34m,\u001b[0m \u001b[0;34m'w'\u001b[0m\u001b[0;34m)\u001b[0m \u001b[0;32mas\u001b[0m \u001b[0mtar\u001b[0m\u001b[0;34m:\u001b[0m\u001b[0;34m\u001b[0m\u001b[0;34m\u001b[0m\u001b[0m\n\u001b[0;32m--> 580\u001b[0;31m             \u001b[0mtar\u001b[0m\u001b[0;34m.\u001b[0m\u001b[0madd\u001b[0m\u001b[0;34m(\u001b[0m\u001b[0mcheckpoint_folder\u001b[0m\u001b[0;34m)\u001b[0m\u001b[0;34m\u001b[0m\u001b[0;34m\u001b[0m\u001b[0m\n\u001b[0m\u001b[1;32m    581\u001b[0m \u001b[0;34m\u001b[0m\u001b[0m\n\u001b[1;32m    582\u001b[0m         \u001b[0mshutil\u001b[0m\u001b[0;34m.\u001b[0m\u001b[0mcopyfile\u001b[0m\u001b[0;34m(\u001b[0m\u001b[0mfile_path\u001b[0m\u001b[0;34m,\u001b[0m \u001b[0;34m\"/content/drive/My Drive/\"\u001b[0m \u001b[0;34m+\u001b[0m \u001b[0mfile_path\u001b[0m\u001b[0;34m)\u001b[0m\u001b[0;34m\u001b[0m\u001b[0;34m\u001b[0m\u001b[0m\n",
      "\u001b[0;32m/usr/lib/python3.6/tarfile.py\u001b[0m in \u001b[0;36madd\u001b[0;34m(self, name, arcname, recursive, exclude, filter)\u001b[0m\n\u001b[1;32m   1957\u001b[0m                 \u001b[0;32mfor\u001b[0m \u001b[0mf\u001b[0m \u001b[0;32min\u001b[0m \u001b[0mos\u001b[0m\u001b[0;34m.\u001b[0m\u001b[0mlistdir\u001b[0m\u001b[0;34m(\u001b[0m\u001b[0mname\u001b[0m\u001b[0;34m)\u001b[0m\u001b[0;34m:\u001b[0m\u001b[0;34m\u001b[0m\u001b[0;34m\u001b[0m\u001b[0m\n\u001b[1;32m   1958\u001b[0m                     self.add(os.path.join(name, f), os.path.join(arcname, f),\n\u001b[0;32m-> 1959\u001b[0;31m                             recursive, exclude, filter=filter)\n\u001b[0m\u001b[1;32m   1960\u001b[0m \u001b[0;34m\u001b[0m\u001b[0m\n\u001b[1;32m   1961\u001b[0m         \u001b[0;32melse\u001b[0m\u001b[0;34m:\u001b[0m\u001b[0;34m\u001b[0m\u001b[0;34m\u001b[0m\u001b[0m\n",
      "\u001b[0;32m/usr/lib/python3.6/tarfile.py\u001b[0m in \u001b[0;36madd\u001b[0;34m(self, name, arcname, recursive, exclude, filter)\u001b[0m\n\u001b[1;32m   1950\u001b[0m         \u001b[0;32mif\u001b[0m \u001b[0mtarinfo\u001b[0m\u001b[0;34m.\u001b[0m\u001b[0misreg\u001b[0m\u001b[0;34m(\u001b[0m\u001b[0;34m)\u001b[0m\u001b[0;34m:\u001b[0m\u001b[0;34m\u001b[0m\u001b[0;34m\u001b[0m\u001b[0m\n\u001b[1;32m   1951\u001b[0m             \u001b[0;32mwith\u001b[0m \u001b[0mbltn_open\u001b[0m\u001b[0;34m(\u001b[0m\u001b[0mname\u001b[0m\u001b[0;34m,\u001b[0m \u001b[0;34m\"rb\"\u001b[0m\u001b[0;34m)\u001b[0m \u001b[0;32mas\u001b[0m \u001b[0mf\u001b[0m\u001b[0;34m:\u001b[0m\u001b[0;34m\u001b[0m\u001b[0;34m\u001b[0m\u001b[0m\n\u001b[0;32m-> 1952\u001b[0;31m                 \u001b[0mself\u001b[0m\u001b[0;34m.\u001b[0m\u001b[0maddfile\u001b[0m\u001b[0;34m(\u001b[0m\u001b[0mtarinfo\u001b[0m\u001b[0;34m,\u001b[0m \u001b[0mf\u001b[0m\u001b[0;34m)\u001b[0m\u001b[0;34m\u001b[0m\u001b[0;34m\u001b[0m\u001b[0m\n\u001b[0m\u001b[1;32m   1953\u001b[0m \u001b[0;34m\u001b[0m\u001b[0m\n\u001b[1;32m   1954\u001b[0m         \u001b[0;32melif\u001b[0m \u001b[0mtarinfo\u001b[0m\u001b[0;34m.\u001b[0m\u001b[0misdir\u001b[0m\u001b[0;34m(\u001b[0m\u001b[0;34m)\u001b[0m\u001b[0;34m:\u001b[0m\u001b[0;34m\u001b[0m\u001b[0;34m\u001b[0m\u001b[0m\n",
      "\u001b[0;32m/usr/lib/python3.6/tarfile.py\u001b[0m in \u001b[0;36maddfile\u001b[0;34m(self, tarinfo, fileobj)\u001b[0m\n\u001b[1;32m   1978\u001b[0m         \u001b[0;31m# If there's data to follow, append it.\u001b[0m\u001b[0;34m\u001b[0m\u001b[0;34m\u001b[0m\u001b[0;34m\u001b[0m\u001b[0m\n\u001b[1;32m   1979\u001b[0m         \u001b[0;32mif\u001b[0m \u001b[0mfileobj\u001b[0m \u001b[0;32mis\u001b[0m \u001b[0;32mnot\u001b[0m \u001b[0;32mNone\u001b[0m\u001b[0;34m:\u001b[0m\u001b[0;34m\u001b[0m\u001b[0;34m\u001b[0m\u001b[0m\n\u001b[0;32m-> 1980\u001b[0;31m             \u001b[0mcopyfileobj\u001b[0m\u001b[0;34m(\u001b[0m\u001b[0mfileobj\u001b[0m\u001b[0;34m,\u001b[0m \u001b[0mself\u001b[0m\u001b[0;34m.\u001b[0m\u001b[0mfileobj\u001b[0m\u001b[0;34m,\u001b[0m \u001b[0mtarinfo\u001b[0m\u001b[0;34m.\u001b[0m\u001b[0msize\u001b[0m\u001b[0;34m,\u001b[0m \u001b[0mbufsize\u001b[0m\u001b[0;34m=\u001b[0m\u001b[0mbufsize\u001b[0m\u001b[0;34m)\u001b[0m\u001b[0;34m\u001b[0m\u001b[0;34m\u001b[0m\u001b[0m\n\u001b[0m\u001b[1;32m   1981\u001b[0m             \u001b[0mblocks\u001b[0m\u001b[0;34m,\u001b[0m \u001b[0mremainder\u001b[0m \u001b[0;34m=\u001b[0m \u001b[0mdivmod\u001b[0m\u001b[0;34m(\u001b[0m\u001b[0mtarinfo\u001b[0m\u001b[0;34m.\u001b[0m\u001b[0msize\u001b[0m\u001b[0;34m,\u001b[0m \u001b[0mBLOCKSIZE\u001b[0m\u001b[0;34m)\u001b[0m\u001b[0;34m\u001b[0m\u001b[0;34m\u001b[0m\u001b[0m\n\u001b[1;32m   1982\u001b[0m             \u001b[0;32mif\u001b[0m \u001b[0mremainder\u001b[0m \u001b[0;34m>\u001b[0m \u001b[0;36m0\u001b[0m\u001b[0;34m:\u001b[0m\u001b[0;34m\u001b[0m\u001b[0;34m\u001b[0m\u001b[0m\n",
      "\u001b[0;32m/usr/lib/python3.6/tarfile.py\u001b[0m in \u001b[0;36mcopyfileobj\u001b[0;34m(src, dst, length, exception, bufsize)\u001b[0m\n\u001b[1;32m    247\u001b[0m     \u001b[0mblocks\u001b[0m\u001b[0;34m,\u001b[0m \u001b[0mremainder\u001b[0m \u001b[0;34m=\u001b[0m \u001b[0mdivmod\u001b[0m\u001b[0;34m(\u001b[0m\u001b[0mlength\u001b[0m\u001b[0;34m,\u001b[0m \u001b[0mbufsize\u001b[0m\u001b[0;34m)\u001b[0m\u001b[0;34m\u001b[0m\u001b[0;34m\u001b[0m\u001b[0m\n\u001b[1;32m    248\u001b[0m     \u001b[0;32mfor\u001b[0m \u001b[0mb\u001b[0m \u001b[0;32min\u001b[0m \u001b[0mrange\u001b[0m\u001b[0;34m(\u001b[0m\u001b[0mblocks\u001b[0m\u001b[0;34m)\u001b[0m\u001b[0;34m:\u001b[0m\u001b[0;34m\u001b[0m\u001b[0;34m\u001b[0m\u001b[0m\n\u001b[0;32m--> 249\u001b[0;31m         \u001b[0mbuf\u001b[0m \u001b[0;34m=\u001b[0m \u001b[0msrc\u001b[0m\u001b[0;34m.\u001b[0m\u001b[0mread\u001b[0m\u001b[0;34m(\u001b[0m\u001b[0mbufsize\u001b[0m\u001b[0;34m)\u001b[0m\u001b[0;34m\u001b[0m\u001b[0;34m\u001b[0m\u001b[0m\n\u001b[0m\u001b[1;32m    250\u001b[0m         \u001b[0;32mif\u001b[0m \u001b[0mlen\u001b[0m\u001b[0;34m(\u001b[0m\u001b[0mbuf\u001b[0m\u001b[0;34m)\u001b[0m \u001b[0;34m<\u001b[0m \u001b[0mbufsize\u001b[0m\u001b[0;34m:\u001b[0m\u001b[0;34m\u001b[0m\u001b[0;34m\u001b[0m\u001b[0m\n\u001b[1;32m    251\u001b[0m             \u001b[0;32mraise\u001b[0m \u001b[0mexception\u001b[0m\u001b[0;34m(\u001b[0m\u001b[0;34m\"unexpected end of data\"\u001b[0m\u001b[0;34m)\u001b[0m\u001b[0;34m\u001b[0m\u001b[0;34m\u001b[0m\u001b[0m\n",
      "\u001b[0;31mKeyboardInterrupt\u001b[0m: "
     ]
    }
   ],
   "source": [
    "gpt2.copy_checkpoint_to_gdrive(run_name=genre)"
   ]
  },
  {
   "cell_type": "markdown",
   "metadata": {
    "colab_type": "text",
    "id": "CzHYvYwBG6ku"
   },
   "source": [
    "Run these blocks in order if you want to do text generation from a loaded model. If error shows up then restart the runtime and only run the import cell before these ones"
   ]
  },
  {
   "cell_type": "code",
   "execution_count": 0,
   "metadata": {
    "colab": {},
    "colab_type": "code",
    "id": "cipsFn-EWNt4"
   },
   "outputs": [],
   "source": [
    "gpt2.copy_checkpoint_from_gdrive(run_name=genre)"
   ]
  },
  {
   "cell_type": "code",
   "execution_count": 0,
   "metadata": {
    "colab": {},
    "colab_type": "code",
    "id": "RWsUzDkUfJUx"
   },
   "outputs": [],
   "source": [
    "sess = gpt2.start_tf_sess()\n",
    "gpt2.load_gpt2(sess, run_name=genre)"
   ]
  },
  {
   "cell_type": "markdown",
   "metadata": {
    "colab_type": "text",
    "id": "l3Uncr1CHGpF"
   },
   "source": [
    "Change verse to be the text that you want to include as your input"
   ]
  },
  {
   "cell_type": "code",
   "execution_count": 0,
   "metadata": {
    "colab": {},
    "colab_type": "code",
    "id": "tMGMVKTOkVLI"
   },
   "outputs": [],
   "source": [
    "# verse = \"Look, I apologize, often womanize, Took for my child to be born, see through a womans eyes, Took for these natural twins to believe in miracles, Took me too long for this song, I dont deserve you, I harassed you out in Paris, Please come back to Rome, you make it home, We talked for hours when you were on tour, Please pick up the phone, pick up the phone!, I said: Don\\'t embarrass me, instead of Be mine, That was my proposal for us to go steady, That was your 21st birthday, You matured faster than me, I wasnt ready, So I apologize, I seen the innocence leave your eyes, I still mourn this death and, I apologize for all the stillborns cause I wasnt present, Your body wouldnt accept it, I apologize to all the women whom I toyed with your emotions, Cause I was emotionless, And I apologize cause at your best you are love, And because I fall short of what I say I\\'m all about, Your eyes leave with the soul that your body once housed, And you stare blankly into space, Thinkin of all the time, you wasted it on all this basic shit, So I apologize\"\n",
    "# verse = \"Look, I apologize, often womanize\\n Took for my child to be born, see through a woman\\'s eyes,\\nTook for these natural twins to believe in miracles\\n Took me too long for this song, I don\\'t deserve you,I harassed you out in Paris Please come back to Rome, you make it home We talked for hours when you were on tour Please pick up the phone, pick up the phone!  I said: Don\\'t embarrass me,” instead of “Be mine,That was my proposal for us to go steady\\n That was your 21st birthday\\n  You matured faster than me, I wasn\\'t ready,So I apologize\\n I seen the innocence leave your eyes\\n I still mourn this death and\\n  I apologize for all the stillbornscause I wasn\\'t present, Your body wouldn\\'t accept it,I apologize to all the women whom I toyed with your emotions\\n  \\'Cause I was emotionless, And I apologizecause at your best you are love, And because I fall short of what I say I\\'m all about,Your eyes leave with the soul that your body once housed\\n And you stare blankly into space\\n  Thinkin\\' of all the time, you wasted it on all this basic shit,So I apologize \"\n",
    "verse = 'I\\'m a sucker for you\\n You say the word and I\\'ll go anywhere blindly ' \n",
    "gpt2.generate(sess, run_name=genre, prefix=\"<|startoftext|>\"+verse, truncate=\"<|endoftext|>\", temperature = 0.3, include_prefix=True)"
   ]
  },
  {
   "cell_type": "code",
   "execution_count": 0,
   "metadata": {
    "colab": {},
    "colab_type": "code",
    "id": "6unzJt90kZLS"
   },
   "outputs": [],
   "source": [
    "\n",
    "gpt2.generate(sess, run_name=genre, prefix=\"<|startoftext|>\"+verse, truncate=\"<|endoftext|>\", temperature = 0.8, include_prefix=True)"
   ]
  },
  {
   "cell_type": "markdown",
   "metadata": {
    "colab_type": "text",
    "id": "ALyDLYaOIGbx"
   },
   "source": [
    "Word Cloud visualizations. You have to copy the text over and do some manipulation so that the words are separated by spaces. "
   ]
  },
  {
   "cell_type": "code",
   "execution_count": 0,
   "metadata": {
    "colab": {},
    "colab_type": "code",
    "id": "ub_vylh0keL1"
   },
   "outputs": [],
   "source": [
    "# Country\n",
    "text = \"I wouldnt change the world Baby, wouldnt you know that I love you?, I wouldnt change the game, I wouldnt change the clock, I wouldnt change the clock real good,I wouldnt change the game Cmon Id rather hurt than feel nothin at all,I think it would be more interesting if just one shoe fit Cameo, pearls, and pearl sold Oh, I wouldnt change the game, I wouldnt change the clock, I wouldnt change the clock, I wouldnt change the clock real good, I wouldnt change the game, no,I think it would be more interesting if just one shoe fit Cameo, pearls, and pearl sold Oh, I wouldnt change the game, I wouldnt change the clock, I wouldnt change the clock, yeah,Real good, yeah Real good, yeah [Verse 2] Would you go with me if we rolled down streets of fire Would you hold on to me tighter as the summer sun got higher If we roll from town to town and never shut it down Would you go with me if we were lost in fields of clover Would we walk even closer until the trip was over And would it be okay if I lost you in a rickety rope?,[Chorus] I dont ever like the road I never like the road I never like the road I never liked the road, to be honest This is my road Oh no No, I dont wanna see you, I dont wanna see you, I dont wanna see you, I dont wanna see you, I dont wanna see you, I dont wanna see you\"\n",
    "text += \"A little girl with a dream Thats what you do when youre in the room Little do you know do you Crawl up in the bed next to me beside me Yeah its a little town on an old highway Little do you know where the red flag goes Mama took the long way every single day  She never left her well-being In a way that makes it hard to breathe You took those long hot years And spent a lot of time withemIn a way that makes it hard to breathe [Verse 2] Mama made us eat dinner in the living room And then she cut a hole in the carpet Well thats a good place to start Mama said give me a hug and slide over here[Chorus] She said well start by kicking off your shoesAnd you on the floor in a ball In a ball with all the players Up all five tonight Are you gonna stop and take a look at them?All the songs that we played All the lights that we lit All the moments when we smiled Thats the way God made girls go[Verse 3] She said if youre gonna take it come on We aint gonna be afraid To win or lose were gonna win or lose Man you had my heart You made the sky blue for the girls to see it You gave us heaven looks with your angel hair I know its difficult to see where I come from But I know where I come from if you know what I mean[Chorus] And you dont see what I see But I dont give a damn what you think Girl youre a mission statement You make it easy for me You make it easy for God Girl youre a miracle a miracleYou make it easy for me [Bridge] For a little town to open its doors You know it aint a dream no its a chanceTo fall in on a Saturday night To fall in on a Saturday night La-a-a-a-a-a-di-da [Chorus] You dont see what I see Boy youre a mission statement You make it easy for me You make it easy for God Girl youre a mission statement You make it easy for God Girl youre a miracle You make it easy for me\"\n",
    "text += \"Saw a man on the sidewalk Hunger written in red chalk Not a care in the world  just a need to They take it down and wean us off Its had-to-do-me  get-to-know-me Life is good today  its supposed to be  its supposed to be But people get sick and tired of being where they are Shes got the bullets  they got the seatsbelt Shes got the bottles full Yeah  everybody wants some cheap fun But there’s been a few of the best years that I ever known The mean winters that weve been here a while We only get lost in summer And I feel like I have to say it  But that doesnt make me less of a man Yeah  theres been a few of the best years\"\n",
    "text += \"Ive been living my best life  Im living my best life  But I dont know how I did it  just playboutisms dont make no sense And Im only here because of you I dont know how  but I do know how I did it I just pray you know it Forget what themthspeak youre used to Its just scripture dark and all-consuming And its on a nightly basis  with no time to spare I just pray you know it [Chorus] Lord knows Ill be strong Even when my bones break Ill be as strong as I’m able to hold Stood in the past  I know the present And the very next day I will be  will be The fighter I was before I lost my mind The one who loves me and gives his life for me This is it  this is it Shes got the bullets  they got the seatsbelt They got the bottles full Yeah  everybody wants some cheap fun But there’s been a few of the best years that I ever known  The mean winters that weve been here a while We only get lost in summer And I feel like I have to say it  But that doesnt make me less of a man Yeah  there’s been a few of the best years  Ive been living my best life  Im living my best life  But I dont know how I did it  just playboutisms don’t make sense And Im only here because of yo I dont know how  but I do know how I did it I just pray you know it  Forget what theyre gonna call my defense It’s first thing in the morning  three things in the middle of a speech And Ill be quick when they say that Yeah  Im ready to roll  ready to roll [Bridg Yeah  when the sun sets And our conversation is as one-sided as it gets  But were just like everybody else  yeah  And Im just asking you  I think its time [Chorus] Lord knows Ill be strong Even when my bones break Ill be as strong as Im able to hold Stood in the past  I know the present And the very next day I will be The fighter I was before I lost my mind The one who loves me and gives his life for me This is it  this is it  Oh  this isntrock no more So come on  come on  come on [Outro] Yeah  just ask anyoneIm just asking you Just asking you Just asking you\"\n",
    "text = text.replace(\"Im\", \"I am\").replace(\"Ive\", \"I have\")"
   ]
  },
  {
   "cell_type": "code",
   "execution_count": 0,
   "metadata": {
    "colab": {},
    "colab_type": "code",
    "id": "d0PvpYPuky85"
   },
   "outputs": [],
   "source": [
    "# Rock\n",
    "text = \"Im a stone of sunlight I stride alone I stride straight I stride tall I stride up I stride down I stride up Ill easternshundred (Well kinda yeah) [Verse 1]  Ive been roamin around Think Im a no-go Ive been sharin my words makin no moves Got a no-holds-barred belly Im sharin my words Not everythings so fine as day when I live [Verse 2] This ancient tongue of ours is still down Stuttering thirst cold feet And the elders talk louder than me [Chorus]  Im a razorblade Im a pocket knife Im a pump foward Im a-fire Im a spineless Im a razorblade [Verse 3] The beast inside you is ferocious Take its time just show me The moment when you shine its golden But the crystal ball Its a metaphor its a metaphor The beast inside you is ferocious Take its time just show me The moment when you shine its golden But the crystal ball Its a metaphor its a metaphor [Chorus]  Im a razorblade Im a pocket knife Im a nincompoop Im a lightning rod [Instrumental Bridge] [Verse 4] This angry insurrection Is gonna be a long day All the sinners burned into the ground  But boys dont you worry youll know Im not saintly Im not saintly [Chorus]  Im a razorblade Im a pocket knife Im a nincompoop Im a lightning rod Im a lightning rod [Verse 5] This is gonna be a long night Theres gonna be no sky no time Just burn this ship down over this hill This ship down this hill  Dont go! Dont go! Go!! The Communist Guard dont welcome outside [Chorus]  Im a razorblade Im a pocket knife Im a nincompoop Im a lightning rod Im a lightning rod Dont go! Dont go! Go!! The Communist Guard dont welcome outside [Outro]  Im a razorblade Im a pocket knife Im a nincompoop Im a lightning rod Im a lightning rod Dont go! Dont go! Go!! The Communist Guard dont welcome outside Im a razorblade!\"\n",
    "text += \"First things first  Im a cowgirl  Im a la-la-la-la-la First things first  Im a cowgirl  take a look at whats on your mind First things first  Im a patriotic girl  Im waiting for my payphone First things first  Im a patriotic girl  take a look at whats on your mind  Im waiting for my payphone  Payphone girl  can you show me whats on your mind  Im waiting for my phone [Verse 1]  I am a patriotic American  I am waiting for my payphone  My phone First thing first Im a patriotic American First thing first [Verse 2]  Now  a lot of people dont realize  were taking back America First thing first  Now its hard to tell  were taking back America [Chorus]  Were going down And your eyes  captured the light  Were going down And your eyes  captured the light [Verse 3]  Now  an angels attack has failed  the peaces broken  And Im the last survivor  Im weak [Chorus]  But my eyes are wide awake I need a hero to save me  But my eyes are wide awake  I need a hero [Bridge]  Cant stop this train  Im having such a good time  But Im having such a good time [Chorus]  My eyes are wide awake I need a hero to save me  But my eyes are wide awake  I need a hero  My eyes are wide awake  I need a hero  My eyes are wide awake  I need a hero  My eyes are wide awake [Outro]  My eyes are wide awake I need a hero to save me\"\n",
    "text += ' I am leaving this place behind  and  I am heading out on the road tonight.  I am off for the hinterlands  way up north where the tall trees stand.  I am off on my own for miles and miles  Ire going for the kill but  I am coming down with an infection. I have got a boyfriend  I have got a daughter  so get your pants back on! I have got my life  I have got my body  yeah!  I have got my front door unlocked  oh so I go outside and I look inside  I see a little something rotten on the ground floor.  I am in love  I have never been more honest with you! I have got a boyfriend  I have got a daughter  and oh yeah!  Little by little the lines get blurred   I am having some fun trying to stay positI have. I have got a boyfriend  I have got a daughter  and oh yeah!  The apocalypse is over  the soccer fields are covered in grass  and  I am having some fun!  [Verse 1]  Riding through dust clouds and barren wastes  my greenbacks growing old mania   I am sprinting to the promised land.    I am so happycause my daddys cominground  I am about to pass by my new home and see what his plans are   My eyes and my ears are ringing from the stars  Its going to be a long  long day  Theres a lady that loves a fool and shes going to marry me She is  and she gets away with it  [Verse 2]   Shes got a railroad bill and shes got a house worth of lines  And shes gonna ride all the way through the rolling snow  And the rolling snow cant get much colder  Nor can we  the freezing wind [Bridge] Little by little the lines get blurred I have got a boyfriend that I really love  I really love h I am  And hes gonna run me like a vicious horse  To the haggard beast  I am gonna crawl home with  And his vicious beast cant find a home [Outro]  Oh  there aint no place left to hide Little by little the lines get blurred I have got a boyfriend that I really love  I really love h I am  And hes gonna run me like a vicious horse  To the haggard beast  I am gonna crawl home with  And his vicious beast cant find a home  And hes gonna run me like a vicious horse  To the haggard beast  I am gonna crawl home with  And his vicious beast cant find a home left So I just ignore the screams  Oh  I aint listening  I cant hear whats inside But I do believe in the light So I just ignore the screams  Oh  I aint listening  I cant hear whats inside But I do believe in the light So I just ignore the screams   I am gonna get to sleep by then   I am already there [Pre-Chorus]  My babys got a fucked up head  Shes gonna show you just what can go wrong  Shes already gone  didnt she?  She couldve used a little help But instead she gets fucked [Chorus]  And I swear that I dont have a gun  Yes I dont have a gun  Yes I dont have a gun  No I dont have a gun So I just ignore the screams   I am already there And I am not the only one  Now  I am not the only one But I am the only one I am the only one that  And I swear that I dont have a gun  Yes I dont have a gun  Yes I dont have a gun  Yes I dont have a gun So I just ignore the screams   I am already there And I am not the only one  Now  I am not the only one But I am the only one I am the only one  And I swear that I dont have a gun  Yes I dont have a gun  Yes I dont have a gun So I just ignore the screams   I am already there'\n",
    "text = text.replace(\"Im\", \"I am\").replace(\"Ive\", \"I have\")\n"
   ]
  },
  {
   "cell_type": "code",
   "execution_count": 0,
   "metadata": {
    "colab": {},
    "colab_type": "code",
    "id": "y_pwmlD6k1xI"
   },
   "outputs": [],
   "source": [
    "# Pop\n",
    "text = '[Intro] Just keep it honest baby  Dont wanna see you cry  Youre too happy now  Thats just the way youre Broken heart  broke heart [Verse 1] You were great before You asked for my heart  I wish I would never met you like me I want to shake your hand before I do  I hope that youre well [Chorus]  Cause my darling  you and I Could take over the world One step at a time Just you and I (Just you and I)  Cause youre too perfect  (Youre too perfect) One step at a time  one step at a time  So just take this  Mean to me  put it in my  I like it  Its meant to be so hard to me [Verse 2]  Now I just keep dancing With my heart still high  No  I wont smile  Ill never let you go No  I wont smile  Ill never let you go  Cause youre too perfect  (Youre too perfect) One step at a time  one step at a time Just you and I (Just you and I)  Cause youre too perfect  (Youre too perfect) One step at a time  one step at a time  So just take this  take this  take this  Anddont you ever regret it  (No  I wont smile) [Bridge] Just you and I (Just you and I)  Cause youre so perfect  (Youre so perfect) One step at a time  one step at a time Just you and I (Just you and I)  Cause youre so perfect  (Youre so perfect) One step at a time  one step at a time  So just take this  take this  take this  (Just you and I dont smile  ooh  oh)  (Youre so perfect) One step at a time  one step at a time  So just take this  take this  take this  (You and I  I dont smile  ooh  ooh  ooh  ooh) (One step at a time  one step at a time)  Cause youre so perfect  (Youre so perfect) One step at a time  one step at a time  So just take this  take this  take this  (You and I dont smile  ooh  ooh  ooh)  (Cause youre so perfect) One step at a time  one step at a time  So just be sure now  take this  take this  take this  (You and I  I dont smile  ooh  ooh  ooh) (One step at a time  one step at a time)  Cause youre so perfect  (Youre so perfect) One step at a time  one step at a time  So just take this  take this  take this  (You and I  I dont smile  ooh  ooh  ooh)'\n",
    "text += 'Letra de Ni Tú Ni Yo (Letra de Ni Tú Ni Yo) Ni Tengo que tráate la calle de tomain Despacito  dale pa´ arriba Yo sé que tu ni por la mía Déjame sentirte  quiero deleitarme en tu lista de habitación Tráamentos más de dos  después de dos  Por pon de manda y el mejor Sons and Queens Ojala Pabllo ver baila  pabllo ver baila Vamos a mí se llama Una santa  cómo se llama Y yo  y yo  y es que mira es Una santa  cómo se llama Una santa  cómo se llama Una Vamos a mí se llama Una santa  cómo se llama Y yo  y yo  y es que mira es Una santa  cómo se llama Una santa  cómo se llama Una [Bridge: Enrique Iglesias] Despacito Porque el amor no me besa noche Porque el amor no me besa noche Despacito Quiero respirar tu cuello despacito Que el corazón conmigo yo te viera Para para el paré yo te siente Y que eres posesiva en la vida Una noche  dos noches sólo a mi belle de ti La noche  he va el sugo provocar A mí se nota me dejes en ti Todos mis sentidos van pidiendo Revolto dalejos en tras de ti Que el corazón conmigo yo te viera Para para el paré yo te siente Y que eres posesiva en la vida Una noche  dos noches sólo a mi belle de ti La noche  he va el sugo provocar A mí se nota me dejes en ti Todos mis sentidos van pidiendo Revolto dalejos en tras Tratos militaritaritarirte [Outro: Enrique Iglesias] Ni Tú Ni Yo Ni Tú Ni Yo Porque el amor no me besa noche Porque el amor no me besa noche Despacito Que el corazón conmigo yo te viera Para para el paré yo te siente Y que eres posesiva en la vida Una noche  dos noches sólo a mi belle de ti La noche  he va el sugo provocar A mí se nota me dejes en ti'\n",
    "text += 'Oh look  theres somethinbout his manners (Uh-huh)  Cause Ive been shaking Ive been bending backwards  backwards  backwards  Cause hes still lookin and hes feeling it  And hes showing me  That hes thinkingbout this And he knows  he knows [Pre-Chorus]  When hes on the screen  Hes playing on the radio  You calling the police?  When hes on the screen  Hes playing on the radio  Youre thinkingbout this You are thinkingbout this [Chorus]  Hes actin like hes in love I watched you shower Thought about him and said no  yeah I just wanna unwind  unwind Think about him over you  over you Over you  over you'\n",
    "text = text.replace(\"Im\", \"I am\").replace(\"Ive\", \"I have\")\n"
   ]
  },
  {
   "cell_type": "code",
   "execution_count": 0,
   "metadata": {
    "colab": {},
    "colab_type": "code",
    "id": "r3saOLaQk4Jt"
   },
   "outputs": [],
   "source": [
    "#Hip Hop\n",
    "text = 'Outta nowhere  I’m rockin ‘em up I’m so used to they stares that we get And they gotta laugh at us  and they gotta break it down Out of all the girls  this shit get boring And it’s so hard to find a nerdy in this building I’m so used to they stare that we get And they gotta laugh at us  and they gotta break it down [Verse 1: Beyoncé] Baby  I swear we up in there   They lookin’ and singin’ and shoutin out comin Jon Stewart  I know they want a verse  but yeah  we up in there   Yeah  she know I am serious  so I am baby gohead and pass    Yeah  she know I am serious  so I am baby gohead and pass    I am up in there  I am tryna get my shit down  what is happenin?  Tell me  do I really wanna get upin your head?   Do I really wanna get up in your head? No  I do not think so    Let us get this understood  cant get no sleep  Oh  baby  you my favorite  my main chick   You taste so right  I taste so wrong  yeah  yeah    Tell me  is you tired?    No  I am up  what is happening behind the scenes?    Are you cryin’? Oh  no    what is happening behind the scenes  what is up in you  oh  [Chorus: Beyoncé & J. Cole] They say   Love is a game  not a friend  And it is up to you If you take the time To see love and not hate Open your heart like that of a baby Can that boy J. Cole get a little jealous?   Thats the sound of romance    Stay faithful  we do not stop  oh  Love is a game Not a friend  no  no [Verse 2: J. Cole] Yeah  yeah  you my new friend  yeah  you my new boo   do not back down  no  no  no  do not fall for this new guy  Your new boo will die in a minute  J. Cole will be the new opp   Girl  I am just tryna make you mine  I am just tryna make you mine    It is not a love thing  just a love thing  no  Love is about patience  J. Cole to my face Love is about life  you and me   Keep tryin to minimize it  Keep tryna overlook it [Chorus: Beyoncé] They say   Love is a game  Not a friend  no  no   And It is up to you  If you take the time To see and to listen   And do not lose your mind    Cause if you do not like it  Then you are mine  baby  whoever ends up winning   Cause whoever ends up winning gets to say they do not like me  [Verse 3: J. Cole]   What wein man? What wein man?    What wein man? Let us take a look at the cloth thats our business  We start with a photograph Then we flip it  then we take a look At the garment that you like Then we put it on and later we fold it Then we send it back   We are not made for each other  We are made to fight    We are made for this game  man  you better buckle up    Machine gun to your body  I am gonna attack  Do my thing machine  rock bottom and goldeneye Then I fold it Goldeneye   Blackberries  I ama jam it in  Then I tip it over so he get to licking it I brought a lotta friends with me   I ama sendem out wayside to get people  But of course we fo the troll   We are made to go    If you are with us  then I am with you    I am with you  girl  I do not be taming you  Go [Chorus: Beyoncé + J. Cole] They say   Love is a game    And It is up to you  If you choose to do it for me   Thats a choice  a choice  Make you who I want you to be   If you say you do not want me  I will never  anywhere   Boy  I am gon make you what you want me to be    If you say you do not want me  I will never '\n",
    "text += 'From the heart I wanna sing  I wanna say thank you to my fans  I wanna see you grow even bigger  I wanna see you become one of the greatest athletes of all time  Hopefully  you have been waiting for that perfect moment  Hopefully  you have been waiting forthat perfect love  Hopefully  you have been waiting [Verse 2: Flo Rida]  The one is that sayin  50 ain\\'t enough We got a hard-nosed  hard-nosed love  And we got a soul that sayin  Give me all of the glory  Glory do not get resold  Only the most dedicated  haters who wait in the cold  Hopefully  you have been waiting  Hopefully  you have been waiting'\n",
    "text += 'Now  She\\'s gonna love me and actuatedale  yeah (She\\'s gonna love me)  You must think that she\\'s beautiful  oh shit  She\\'s always been that  uh (She\\'s always been that)  That\\'s why I gotta get this over with  She\\'s gonn love me and actuatedale [Chorus: Yung Miami]  I\\'m like  yeah  she\\'s fine  I\\'m like  yeah  she\\'s fine  She\\'s gonna love me  yeah  she\\'s fine  Yeah  she\\'s fine  She\\'s gonna love me  yeah  she\\'s fine  She\\'s gonna love me  yeah  she\\'s fine  Yeah  she\\'s fine  She\\'s gonna love me  she\\'s fine  Yeah  she\\'s fine [Post-Chorus: Yung Miami & J.T.]  \\'Cause she\\'s fine  girl  she\\'s fine  She\\'s gotta keep the dick in her jeans And she gon’ call me up when she feel like it  uh-huh Girl  she got that hot chick dick  uh-huh Girl  she got that hot chick dick  uh-huh [Verse 1: Yung Miami] Yeah  she got that hot chick  hot chick  hot chick hot chick  hot chick  she got that ass on  on Hot chick  she got that ass on  on  on Hot chick  she got that ass on  on  on It\\'s so hot in here right now  you could say (ass) Kimchi (Katti)  You could say (ass)  I\\'m on your ass right now  bye-bye  I\\'m hot and ready to go  where\\'s the bed? (Bendulum)  Ready to fuck  just like that  Fuck her  just like that [Pre-Chorus: Yung Miami] She\\'ll love me anywhere cause she gon\\' want me (Want  wanna  wanna  wanna) Drugs  sex  lust  hell  hell even  give me upI can get on top if it take me tooHell of a way (Hot girl  how that do?) My legs don\\'t hurt from not much olives (No) Money  no limitI could get even with a hot girl  woman  she on even[Chorus: Yung Miami] I\\'m like  yeah  she\\'s fine  I\\'m like  yeah  she\\'s fine  She\\'s gotta keep the dick in her jeans And she gon’ call me up when she feel like it  uh-huhGirl  she got that hot chick  uh-huhGirl  she got that hot chick  she got that hot chick It\\'s so hot in here right now  you could say (hot chick  chick  hot chick)  Ready to fuck when I\\'m ready to lose  bye-bye  I\\'m hot and ready to go  I\\'m ready to fuck  I\\'m ready to go Money  no limit[Post-Chorus: Yung Miami] \\'Cause she\\'s fine  girl  she\\'s fine  She\\'s gotta keep the dick in her jeans And she gon’ call me up when she feel like it  uh-huhGirl  she got that hot chick  uh-huhGirl  she got that hot chick  she got that hot chick It\\'s so hot in here right now  you could say (hot chick  chick  hot chick)  Ready to fuck when I\\'m ready to lose  bye-bye  I\\'m hot and ready to go  I\\'m ready to fuck  I\\'m ready to go Money  no limit[Outro: Yung Miami & Yung Miami]Hot girl  girl  she a hot girlHot chick  chick  she a hot girl She got that hot chick  she got that hot chick  She got that hot chick  she got that hot chick  She got that hot chick  she got that hot chick  She got that hot chick  she got that hot chick  She got that hot chick  she got that hot chick  She got that hot chick  she got that hot chick'\n"
   ]
  },
  {
   "cell_type": "code",
   "execution_count": 0,
   "metadata": {
    "colab": {},
    "colab_type": "code",
    "id": "E44sjbLTk6RG"
   },
   "outputs": [],
   "source": [
    "#Rap\n",
    "text = 'Quickie  quickie  ho Who in the vicinity of ninety-five and eighty is ready to pounce  The industry\\'s favorite blunt  Tricep and her toe Shoot like a war  with or without the gas  With fifty shells  the bitch\\'s name\\'s Kunta Kinte And she want to get me  But I\\'m too late  my Glock\\'s stuck And I got another Glock in my vehicle So  ho  switch it up  I\\'ll get to floor  I\\'m a fractional reserve  I\\'m the spitting image of Anastasio Sommerta  Glock-booted  with six clip options  With a .45 in my waist  duffel bag\\'s full  With three grams of spent duffel  Stinger\\'d Torso-socked  braided  braided  duffel\\'d  Glock-booted  fucked up  Valentino\\'s on the beat  Glock-booted  fucked up  Valentino\\'s on the beat  Glock-boot  fucked up  Valentino\\'s on the beat [Verse 3] I picked up the case  stripped it down and took it with me  While I was there saw a nigga smoking on the corner  A South-side ma\\'fuckin nigga who used to sell glitchin\\' knock-knocks  As we bust us in the head  see Gucci boys in Smith\\'s With hundreds of thousands on my European bank  I don\\'t check no more than thou doest self-defense  While I\\'m there bustin\\' in my mohican Sasquatch clique growing every time this shit played Young nigga  my biggest fan is Penya  Makin\\' noise when you see him breakin\\' in  With a nine-fo\\' and a half G\\'d up  That snitch got noise so I put mines in  That\\'s a G\\'d up  G\\'d up  I\\'m the nigga  the devil\\'s the story (why)  Glock-booted  bare-knucklejig-blin\\' (it\\'s a weekend  mind)  Glock-booted  bare-knuckle jig-blin\\' (it\\'s a weekend  mind)  Glock-booted  bare-knuckle jig-blin\\' (it\\'s a weekend) [Chorus]  Yeah  baby  I\\'m gettin\\' huffy  I\\'m gettin\\' up  baby  yeah  I\\'m gettin\\' up  I\\'m gettin\\' up  baby  yeah  I\\'m gettin\\' up  I\\'m gettin\\' up  baby  yeah  I\\'m gettin\\' up  I\\'m gettin\\' up  baby  yeah  I\\'m gettin\\' up  I\\'m gettin up  baby  yeah  I\\'m gettin\\' up [Verse 4]  Yeah  baby  I said fuck you  po\\' makin\\' it (it\\'s your first  baby)  I\\'ll take you wherever you go  yeah  I say)  You don\\'t have a home? Take it home and take it home (baby)  You don\\'t have a home? No  you out of town  baby  And if you ain\\'t got a place to call it kiddie  I got a place to call it  Now get to bustin\\' yo\\' head in the attic  I\\'ll take ya there  Bitch runnin\\' with the key  the key to the attic Catch a cold day in the cold world Where the breezes breath they through jeans and t-shirt  And if you ain\\'t got a home  I got a place to call it  Now get to bustin\\' yo\\' head in the attic  I\\'ll take ya there  Bitch runnin\\' with the key  the key to the attic Catch a cold day in the cold world Where the breezes breath they through jeans and t-shirt  And if you ain\\'t got a home  I got a place to call it [Chorus]  Yeah  baby  I\\'m gettin\\' up  I\\'m gettin\\' up (baby  I\\'m gettin\\' up)  I\\'m gettin\\' up (baby  I\\'m gettin\\' up)  I\\'m gettin\\' up (baby  I\\'m gettin\\' up)'\n",
    "text += ' Makin\\' light of  then it stopped Shook in my heart [Verse 1: Tech N9ne]  (Talkin\\'bout) When the mic popped out crayons My homie came through and he was the man I put my mic in gear and walked  He stare at me blankly  we don\\'t  We geeked out and thought we supposed When he busted it out for me  I turned to a wild man and started talking  His face was splashin  I didn\\'t want no confrontation He looked at me funny with his hands on my bank I looked at my whip and he had his face on the sto Why he look like this? He get paid like this  He break into my bank  puts his finger on my trigger And I knew this was it I knew I had to get this right This was it I knew I had to get this right Where was the dope money at? I checked Cash was in the air and they was friendly  They laid you down for a check and told you you weren\\'t gonna  They tried to throw you down but you stayed fronting Like Farmer Man And you look like you could play a racket  I knew you weren\\'t gonna be too hard  I counted like 8 cups down They took my rings and they were straight I put them on and I said Go back for my rings They weren\\'t taking them off for me  They were looking for some old sex tape I seen So I looked back home and I said Good girl  That\\'s exactly what I was looking for [Hook] Thank God that God approves  Of course this ain\\'t legal tender We got the legal tender  But I\\'m not gonna tell y\\'all (You not Tari)  You not gonna be around  I\\'m not a G but I be speaking  Of course it\\'s gonna happen  \\'Cause I feel like I\\'ve finally got the strength to stand  To go against the will and bring what I\\'ve learned in fights  I feel like I\\'ve finally found my voice [Verse 2: Waka Flocka Flame] I used to listen to two-step  damn And now I gotta get my mind off it Know what I just said?  Nah  no Waka  we ain\\'t even knowin\\' what\\'s up  Shawty tellin\\' that motherfucker what I\\'m thinkin\\'  I ain\\'t fuckin\\' like Shazam  I\\'m not even speaking on my own album  I\\'m a vessel that\\'s been sealed Wrapped in five-quadruple custody And everything that I say is negative for my mental  District of Columbia  hold the ropes  bitch! [Hook] Thank you  God  God bless your blessings  Thank you  God  God  God  God  thank you God forbid  wouldn\\'t want it Would rather bless the streets Or get a vasectomy [Verse 3: Waka Flocka Flame] Verse two is spent  the body is wastin\\' space  The League of Extraordinary B-My-My-My brothers  bam  blizzard  VF And brothers  hey  let it sit  It\\'s cool  Vicious  what\\'s it gonna do? I got brothers  bam  hey  let it crash [Hook] Thank you  God  God  thank you  Thank you  God  God  God  thank you Viciously  on some crazy shit I said  Goddamn  let it crash and bang and let it go (Let it crash and bang) And let the Music Light my body  and lift me up [Transcribed] [Verse 1: Waka Flocka Flame] From the depths of the sea  back to the brink Of annihilation  the wicked lead the people To snatch bread and blood and murder Any who dare to stand  Whoever slaps or pats a dissenter  he\\'s a fool  Someone caught up in the middle  and fools get exposed  And fools get ambushed  and then they get used to it And once they start to come to understand  They become more and more of a person And everything that I do has an impact  I don\\'t believe in stil-dacs  and I don\\'t believe in stil-dacs Like Malcolm X thinking he sling\\'d a pen Nigg said what a fool he was to try to start a conversation With a vrack of Pain meds in my hand'\n",
    "text += 'Halle Berry Halle Berry You got it  baby Berry You got it  baby You got it  baby You got it  baby  But I\\'mbout to rumble in the night  You don\\'t want me to get up? (You don\\'t want me to get up?) Let me in (You don\\'t want me to get up?) Let me in (You don\\'t want me to get up?) Look! Look! Look!  I\\'m in  baby  in [Verse 1: Nicki Minaj]  Serious water\\'s on the way up  Nicki  I\\'ve been in the field  I been out  Shot on video  I gotta keep my cool  but boy  y\\'all said so  It\\'s clear the rain\\'s gonna get in  Club-hopping  playin\\' with the club like hoin\\' butterflies  Serious water\\'s on the way up  Nicki  I\\'ve been in the field  I been out Shot on video  I gotta keep my cool  Serious water\\'s on the way up  Nicki [Verse 2: Lil Dicky]  I\\'m on an island on a money boat  Lil Uzi mothafucka catchin\\' shit  nigga I\\'m so fly  Flying on these niggas fur\\' like I\\'m Deck  I\\'m so fly  Nigga I\\'m on a yacht with the best girl in the club  I\\'m so fly Nigga I know who you are  I know who you are  I swear that I spit real poison  y\\'all so sick  If I didn\\'t I\\'d still be in trouble  I be straight with you  we be dyin  dude  yuh [Verse 3]  I\\'m on this low  pass this to my sisters  I said I\\'mbout to Wake up and Sing at the same time  I\\'m in the area  I\\'m getting hard  aight  gohead  It\\'s kind of been a couple of weeks  what feelin\\'? – those are the kindof questions I got  You said you\\'d give me a hug  and I didn\\'t  now how shit am I supposed to feel?  I don\\'t know  but I know I\\'m in these thongs With hail against the dirt  I\\'m just what the script said: Low-key talkin\\' in the Cottonwood  If you got a wish  then pickin\\' up Hailie\\'s album cover  I\\'m just what the script said I\\'m about to drop: The story of a rapper that\\'s so high  Now let\\'s meet  and we\\'ll see how y\\'all can compete  Let\\'s talk  and this is the point at which we begin  We are  and this is the point at which we demonstrate That hip-hop is just – (huh huh) Step by step  the way I see it  how I come up with this shit All the way from the bottom to the top To the top  Chief Keef and Lil Dicky have arrived  They\\'re bringin\\' their own special brand of hip-hop And my label  Pandora  they get to see me  And here\\'s my big blessin\\' this album  box office  Fuckin\\' on all cylinders  with a flow so incredible  Yeah  here we at the top  all about shoes and cars  And here\\'s my circle of friends and enemies And my label Pandora  they get to see me  And here we schmoo-boxin\\' this\\' and startasin\\'  And here we schmoo-boxin\\' this\\' and startasin\\'  And here we schmoo-boxin\\' this and startasin\\' And here we schmoo-boxin\\' this\\' and startasin\\'  And here we schmoo-boxin\\' this and startasin\\' And here we schmoo-boxin\\' this And here we schmoo-boxin  And here we schmoo-boxin\\' this [Outro: Lil Dicky]  Ayo  here we go now  You know what\\'s up  the mackin\\' up?  Here we go now  You know what\\'s up  the mackin\\' up? (Hey)  The record straight  it\\'s not working  We in trouble all the time All across the board  chief! Mackinaw nuts all on your staff  erase that! (Shoot that!)  Shoot tha'\n"
   ]
  },
  {
   "cell_type": "code",
   "execution_count": 0,
   "metadata": {
    "colab": {},
    "colab_type": "code",
    "id": "ACf9Kzbik8uV"
   },
   "outputs": [],
   "source": [
    "from wordcloud import WordCloud, STOPWORDS \n",
    "comment_words = ' '\n",
    "stopwords = set(STOPWORDS) \n",
    "splits = text.split(\" \")\n",
    "for word in splits:\n",
    "  comment_words += word.replace(\",\", \"\") + \" \"\n",
    "comment_words = comment_words.lower().replace(\"  \", \" \").replace(\"   \", \" \")\n"
   ]
  },
  {
   "cell_type": "code",
   "execution_count": 0,
   "metadata": {
    "colab": {},
    "colab_type": "code",
    "id": "0npz8Oo8k_BO"
   },
   "outputs": [],
   "source": [
    "wordcloud = WordCloud(width = 800, height = 800, \n",
    "                background_color ='white', \n",
    "                stopwords = stopwords, \n",
    "                min_font_size = 10).generate(comment_words) "
   ]
  },
  {
   "cell_type": "code",
   "execution_count": 0,
   "metadata": {
    "colab": {},
    "colab_type": "code",
    "id": "qt8J9SGSlFB2"
   },
   "outputs": [],
   "source": [
    "import matplotlib.pyplot as plt\n",
    "plt.figure(figsize = (8, 8), facecolor = None) \n",
    "plt.imshow(wordcloud) \n",
    "plt.axis(\"off\") \n",
    "plt.tight_layout(pad = 0) \n",
    "  \n",
    "plt.show() \n"
   ]
  }
 ],
 "metadata": {
  "colab": {
   "collapsed_sections": [],
   "name": "Text_Generation.ipynb",
   "provenance": []
  },
  "kernelspec": {
   "display_name": "Python 3",
   "language": "python",
   "name": "python3"
  },
  "language_info": {
   "codemirror_mode": {
    "name": "ipython",
    "version": 3
   },
   "file_extension": ".py",
   "mimetype": "text/x-python",
   "name": "python",
   "nbconvert_exporter": "python",
   "pygments_lexer": "ipython3",
   "version": "3.8.3"
  }
 },
 "nbformat": 4,
 "nbformat_minor": 1
}
