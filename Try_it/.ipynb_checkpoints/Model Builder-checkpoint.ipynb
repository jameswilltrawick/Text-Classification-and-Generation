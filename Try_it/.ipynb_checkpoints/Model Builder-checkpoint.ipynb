{
 "cells": [
  {
   "cell_type": "code",
   "execution_count": 2,
   "metadata": {},
   "outputs": [],
   "source": [
    "from sklearn.feature_extraction.text import TfidfVectorizer\n",
    "import numpy as np\n",
    "import pandas as pd\n",
    "from sklearn.model_selection import KFold\n",
    "from sklearn.model_selection import GridSearchCV\n",
    "\n",
    "import nltk\n",
    "from nltk.util import ngrams"
   ]
  },
  {
   "cell_type": "code",
   "execution_count": 3,
   "metadata": {},
   "outputs": [],
   "source": [
    "def read_lyrics_data(file_name):\n",
    "    return pd.read_csv(file_name)"
   ]
  },
  {
   "cell_type": "markdown",
   "metadata": {},
   "source": [
    "# Model Builder"
   ]
  },
  {
   "cell_type": "code",
   "execution_count": 4,
   "metadata": {},
   "outputs": [],
   "source": [
    "def get_vocab_words(genre_df, max_features, ngram_range):\n",
    "    vocab_set = set()\n",
    "    vectorizer = TfidfVectorizer(max_features = max_features, ngram_range = ngram_range, max_df = .999, min_df = .00001,\\\n",
    "                                stop_words = 'english')\n",
    "    \n",
    "    vectorizer.fit_transform(genre_df.Lyrics)\n",
    "    genre_vocab = vectorizer.vocabulary_\n",
    "    vocab_set.update(set(genre_vocab.keys()))\n",
    "    return vocab_set"
   ]
  },
  {
   "cell_type": "code",
   "execution_count": 5,
   "metadata": {},
   "outputs": [],
   "source": [
    "from sklearn.linear_model import LogisticRegression\n",
    "def get_logistic_metrics(features, labels):\n",
    "    penalty = ['l1', 'l2']\n",
    "    regs = [2, 1, .1, .01]\n",
    "    \n",
    "    hyperparameters = dict(C=regs, penalty=penalty)\n",
    "    model = LogisticRegression(random_state=0, solver = 'saga',class_weight='balanced', multi_class='multinomial', \\\n",
    "                               max_iter=3000)\n",
    "    \n",
    "    clf = GridSearchCV(model, hyperparameters, cv=2, verbose=0, n_jobs = 5)\n",
    "    grid_model = clf.fit(features, labels)\n",
    "    return grid_model"
   ]
  },
  {
   "cell_type": "code",
   "execution_count": 6,
   "metadata": {},
   "outputs": [],
   "source": [
    "from sklearn.ensemble import RandomForestClassifier\n",
    "def get_forest_metrics(features, labels):\n",
    "    num_trees = [30, 40, 50]\n",
    "    max_features = ['sqrt', 'log2']\n",
    "    depth = [11, 13, 15]\n",
    "    \n",
    "    hyperparameters = dict(n_estimators=num_trees, max_depth=depth, max_features = max_features)\n",
    "    model = RandomForestClassifier(min_samples_leaf = int(.05 * len(labels)), random_state=0, class_weight='balanced')\n",
    "    \n",
    "    clf = GridSearchCV(model, hyperparameters, cv=2, verbose=0, n_jobs = 5)\n",
    "    grid_model = clf.fit(features, labels)\n",
    "    return grid_model"
   ]
  },
  {
   "cell_type": "code",
   "execution_count": 7,
   "metadata": {},
   "outputs": [],
   "source": [
    "def run_cross_validation(lyrics_df, ngram):\n",
    "    unique_genres = lyrics_df.Genre.unique()\n",
    "    \n",
    "    features = lyrics_df.Lyrics\n",
    "    labels = lyrics_df.Genre\n",
    "    vocab_set = set()\n",
    "    \n",
    "    for genre in unique_genres: # Get top phrases for each genre\n",
    "        genre_df = lyrics_df[lyrics_df.Genre == genre]\n",
    "        vocab = get_vocab_words(genre_df, 300, (ngram, ngram))\n",
    "        vocab_set.update(vocab)\n",
    "    \n",
    "    \n",
    "    vectorizer = TfidfVectorizer(ngram_range = (ngram, ngram), vocabulary = vocab_set, stop_words = 'english')\n",
    "    train_features = vectorizer.fit_transform(features)\n",
    "    \n",
    "    logistic_grid = get_logistic_metrics(train_features, labels)\n",
    "   \n",
    "    forest_grid = get_forest_metrics(train_features, labels)\n",
    "   \n",
    "    return logistic_grid, forest_grid"
   ]
  },
  {
   "cell_type": "code",
   "execution_count": 10,
   "metadata": {},
   "outputs": [
    {
     "ename": "AttributeError",
     "evalue": "'DataFrame' object has no attribute 'Genre'",
     "output_type": "error",
     "traceback": [
      "\u001b[1;31m---------------------------------------------------------------------------\u001b[0m",
      "\u001b[1;31mAttributeError\u001b[0m                            Traceback (most recent call last)",
      "\u001b[1;32m<ipython-input-10-bef2225e000c>\u001b[0m in \u001b[0;36m<module>\u001b[1;34m\u001b[0m\n\u001b[0;32m      4\u001b[0m \u001b[1;33m\u001b[0m\u001b[0m\n\u001b[0;32m      5\u001b[0m \u001b[1;32mfor\u001b[0m \u001b[0mg\u001b[0m \u001b[1;32min\u001b[0m \u001b[0mrange\u001b[0m\u001b[1;33m(\u001b[0m\u001b[1;36m1\u001b[0m\u001b[1;33m,\u001b[0m \u001b[1;36m7\u001b[0m\u001b[1;33m)\u001b[0m\u001b[1;33m:\u001b[0m\u001b[1;33m\u001b[0m\u001b[1;33m\u001b[0m\u001b[0m\n\u001b[1;32m----> 6\u001b[1;33m     \u001b[0mrun_cross_validation\u001b[0m\u001b[1;33m(\u001b[0m\u001b[0mlyrics\u001b[0m\u001b[1;33m,\u001b[0m \u001b[0mg\u001b[0m\u001b[1;33m)\u001b[0m\u001b[1;33m\u001b[0m\u001b[1;33m\u001b[0m\u001b[0m\n\u001b[0m\u001b[0;32m      7\u001b[0m     \u001b[0mlogistic_grid\u001b[0m\u001b[1;33m,\u001b[0m \u001b[0mforest_grid\u001b[0m \u001b[1;33m=\u001b[0m \u001b[0mrun_cross_validation\u001b[0m\u001b[1;33m(\u001b[0m\u001b[0mlyrics\u001b[0m\u001b[1;33m,\u001b[0m \u001b[0mg\u001b[0m\u001b[1;33m)\u001b[0m\u001b[1;33m\u001b[0m\u001b[1;33m\u001b[0m\u001b[0m\n\u001b[0;32m      8\u001b[0m \u001b[1;33m\u001b[0m\u001b[0m\n",
      "\u001b[1;32m<ipython-input-7-1a18f4b1b011>\u001b[0m in \u001b[0;36mrun_cross_validation\u001b[1;34m(lyrics_df, ngram)\u001b[0m\n\u001b[0;32m      1\u001b[0m \u001b[1;32mdef\u001b[0m \u001b[0mrun_cross_validation\u001b[0m\u001b[1;33m(\u001b[0m\u001b[0mlyrics_df\u001b[0m\u001b[1;33m,\u001b[0m \u001b[0mngram\u001b[0m\u001b[1;33m)\u001b[0m\u001b[1;33m:\u001b[0m\u001b[1;33m\u001b[0m\u001b[1;33m\u001b[0m\u001b[0m\n\u001b[1;32m----> 2\u001b[1;33m     \u001b[0munique_genres\u001b[0m \u001b[1;33m=\u001b[0m \u001b[0mlyrics_df\u001b[0m\u001b[1;33m.\u001b[0m\u001b[0mGenre\u001b[0m\u001b[1;33m.\u001b[0m\u001b[0munique\u001b[0m\u001b[1;33m(\u001b[0m\u001b[1;33m)\u001b[0m\u001b[1;33m\u001b[0m\u001b[1;33m\u001b[0m\u001b[0m\n\u001b[0m\u001b[0;32m      3\u001b[0m \u001b[1;33m\u001b[0m\u001b[0m\n\u001b[0;32m      4\u001b[0m     \u001b[0mfeatures\u001b[0m \u001b[1;33m=\u001b[0m \u001b[0mlyrics_df\u001b[0m\u001b[1;33m.\u001b[0m\u001b[0mLyrics\u001b[0m\u001b[1;33m\u001b[0m\u001b[1;33m\u001b[0m\u001b[0m\n\u001b[0;32m      5\u001b[0m     \u001b[0mlabels\u001b[0m \u001b[1;33m=\u001b[0m \u001b[0mlyrics_df\u001b[0m\u001b[1;33m.\u001b[0m\u001b[0mGenre\u001b[0m\u001b[1;33m\u001b[0m\u001b[1;33m\u001b[0m\u001b[0m\n",
      "\u001b[1;32m~\\Anaconda3\\lib\\site-packages\\pandas\\core\\generic.py\u001b[0m in \u001b[0;36m__getattr__\u001b[1;34m(self, name)\u001b[0m\n\u001b[0;32m   5272\u001b[0m             \u001b[1;32mif\u001b[0m \u001b[0mself\u001b[0m\u001b[1;33m.\u001b[0m\u001b[0m_info_axis\u001b[0m\u001b[1;33m.\u001b[0m\u001b[0m_can_hold_identifiers_and_holds_name\u001b[0m\u001b[1;33m(\u001b[0m\u001b[0mname\u001b[0m\u001b[1;33m)\u001b[0m\u001b[1;33m:\u001b[0m\u001b[1;33m\u001b[0m\u001b[1;33m\u001b[0m\u001b[0m\n\u001b[0;32m   5273\u001b[0m                 \u001b[1;32mreturn\u001b[0m \u001b[0mself\u001b[0m\u001b[1;33m[\u001b[0m\u001b[0mname\u001b[0m\u001b[1;33m]\u001b[0m\u001b[1;33m\u001b[0m\u001b[1;33m\u001b[0m\u001b[0m\n\u001b[1;32m-> 5274\u001b[1;33m             \u001b[1;32mreturn\u001b[0m \u001b[0mobject\u001b[0m\u001b[1;33m.\u001b[0m\u001b[0m__getattribute__\u001b[0m\u001b[1;33m(\u001b[0m\u001b[0mself\u001b[0m\u001b[1;33m,\u001b[0m \u001b[0mname\u001b[0m\u001b[1;33m)\u001b[0m\u001b[1;33m\u001b[0m\u001b[1;33m\u001b[0m\u001b[0m\n\u001b[0m\u001b[0;32m   5275\u001b[0m \u001b[1;33m\u001b[0m\u001b[0m\n\u001b[0;32m   5276\u001b[0m     \u001b[1;32mdef\u001b[0m \u001b[0m__setattr__\u001b[0m\u001b[1;33m(\u001b[0m\u001b[0mself\u001b[0m\u001b[1;33m,\u001b[0m \u001b[0mname\u001b[0m\u001b[1;33m:\u001b[0m \u001b[0mstr\u001b[0m\u001b[1;33m,\u001b[0m \u001b[0mvalue\u001b[0m\u001b[1;33m)\u001b[0m \u001b[1;33m->\u001b[0m \u001b[1;32mNone\u001b[0m\u001b[1;33m:\u001b[0m\u001b[1;33m\u001b[0m\u001b[1;33m\u001b[0m\u001b[0m\n",
      "\u001b[1;31mAttributeError\u001b[0m: 'DataFrame' object has no attribute 'Genre'"
     ]
    }
   ],
   "source": [
    "lyrics = read_lyrics_data(\"LyricsData.csv\")\n",
    "logistic_df = []\n",
    "forest_df = []\n",
    "\n",
    "for g in range(1, 7):\n",
    "    run_cross_validation(lyrics, g)\n",
    "    logistic_grid, forest_grid = run_cross_validation(lyrics, g)\n",
    "    \n",
    "    best_logistic = logistic_grid.best_params_\n",
    "    best_logistic['gram'] = g\n",
    "    best_logistic['score'] = logistic_grid.best_score_\n",
    "    logistic_df.append(best_logistic)\n",
    "    \n",
    "    best_forest = forest_grid.best_params_\n",
    "    best_forest['gram'] = g\n",
    "    best_forest['score'] = forest_grid.best_score_\n",
    "    forest_df.append(best_forest)"
   ]
  },
  {
   "cell_type": "code",
   "execution_count": null,
   "metadata": {},
   "outputs": [],
   "source": [
    "logistic_df = pd.DataFrame(logistic_df)\n",
    "logistic_df.to_csv(\"logistic_metrics.csv\", index = False)\n",
    "\n",
    "forest_df = pd.DataFrame(forest_df)\n",
    "forest_df.to_csv(\"forest_metrics.csv\", index = False)"
   ]
  },
  {
   "cell_type": "code",
   "execution_count": 11,
   "metadata": {},
   "outputs": [
    {
     "data": {
      "text/html": [
       "<div>\n",
       "<style scoped>\n",
       "    .dataframe tbody tr th:only-of-type {\n",
       "        vertical-align: middle;\n",
       "    }\n",
       "\n",
       "    .dataframe tbody tr th {\n",
       "        vertical-align: top;\n",
       "    }\n",
       "\n",
       "    .dataframe thead th {\n",
       "        text-align: right;\n",
       "    }\n",
       "</style>\n",
       "<table border=\"1\" class=\"dataframe\">\n",
       "  <thead>\n",
       "    <tr style=\"text-align: right;\">\n",
       "      <th></th>\n",
       "      <th>Unnamed: 0</th>\n",
       "      <th>artist</th>\n",
       "      <th>genre</th>\n",
       "      <th>song</th>\n",
       "      <th>lyrics</th>\n",
       "      <th>editedlyrics</th>\n",
       "    </tr>\n",
       "  </thead>\n",
       "  <tbody>\n",
       "    <tr>\n",
       "      <th>0</th>\n",
       "      <td>0</td>\n",
       "      <td>Drake</td>\n",
       "      <td>Rap</td>\n",
       "      <td>God’s Plan</td>\n",
       "      <td>['[Intro]', \"And they wishin' and wishin' and ...</td>\n",
       "      <td>['[Intro]', \"And they wishin' and wishin' and ...</td>\n",
       "    </tr>\n",
       "    <tr>\n",
       "      <th>1</th>\n",
       "      <td>1</td>\n",
       "      <td>The Kings of Leon</td>\n",
       "      <td>Rock</td>\n",
       "      <td>Circle of Life (Broadway Version)</td>\n",
       "      <td>['[RAFIKI &amp; ENSEMBLE]', 'Nants ingonyama bagit...</td>\n",
       "      <td>['[RAFIKI &amp; ENSEMBLE]', 'Nants ingonyama bagit...</td>\n",
       "    </tr>\n",
       "    <tr>\n",
       "      <th>2</th>\n",
       "      <td>2</td>\n",
       "      <td>Adele</td>\n",
       "      <td>Pop</td>\n",
       "      <td>Hello</td>\n",
       "      <td>['[Verse 1]', \"Hello, it's me\", \"I was wonderi...</td>\n",
       "      <td>['[Verse 1]', \"Hello, it's me\", \"I was wonderi...</td>\n",
       "    </tr>\n",
       "    <tr>\n",
       "      <th>3</th>\n",
       "      <td>3</td>\n",
       "      <td>Outkast</td>\n",
       "      <td>Hip-Hop/R&amp;B</td>\n",
       "      <td>Hey Ya!</td>\n",
       "      <td>['[Intro: André 3000]', '1, 2, 3, uh!', '', '[...</td>\n",
       "      <td>['[Intro: André 3000]', '1, 2, 3, uh!', '[Vers...</td>\n",
       "    </tr>\n",
       "    <tr>\n",
       "      <th>4</th>\n",
       "      <td>4</td>\n",
       "      <td>Luke Bryan</td>\n",
       "      <td>Country</td>\n",
       "      <td>Most People Are Good</td>\n",
       "      <td>['[Verse 1]', 'I believe kids oughta stay kids...</td>\n",
       "      <td>['[Verse 1]', 'I believe kids oughta stay kids...</td>\n",
       "    </tr>\n",
       "  </tbody>\n",
       "</table>\n",
       "</div>"
      ],
      "text/plain": [
       "   Unnamed: 0             artist        genre  \\\n",
       "0           0              Drake          Rap   \n",
       "1           1  The Kings of Leon         Rock   \n",
       "2           2              Adele          Pop   \n",
       "3           3            Outkast  Hip-Hop/R&B   \n",
       "4           4         Luke Bryan      Country   \n",
       "\n",
       "                                song  \\\n",
       "0                         God’s Plan   \n",
       "1  Circle of Life (Broadway Version)   \n",
       "2                              Hello   \n",
       "3                            Hey Ya!   \n",
       "4               Most People Are Good   \n",
       "\n",
       "                                              lyrics  \\\n",
       "0  ['[Intro]', \"And they wishin' and wishin' and ...   \n",
       "1  ['[RAFIKI & ENSEMBLE]', 'Nants ingonyama bagit...   \n",
       "2  ['[Verse 1]', \"Hello, it's me\", \"I was wonderi...   \n",
       "3  ['[Intro: André 3000]', '1, 2, 3, uh!', '', '[...   \n",
       "4  ['[Verse 1]', 'I believe kids oughta stay kids...   \n",
       "\n",
       "                                        editedlyrics  \n",
       "0  ['[Intro]', \"And they wishin' and wishin' and ...  \n",
       "1  ['[RAFIKI & ENSEMBLE]', 'Nants ingonyama bagit...  \n",
       "2  ['[Verse 1]', \"Hello, it's me\", \"I was wonderi...  \n",
       "3  ['[Intro: André 3000]', '1, 2, 3, uh!', '[Vers...  \n",
       "4  ['[Verse 1]', 'I believe kids oughta stay kids...  "
      ]
     },
     "execution_count": 11,
     "metadata": {},
     "output_type": "execute_result"
    }
   ],
   "source": [
    "lyrics"
   ]
  },
  {
   "cell_type": "code",
   "execution_count": null,
   "metadata": {},
   "outputs": [],
   "source": []
  }
 ],
 "metadata": {
  "kernelspec": {
   "display_name": "Python 3",
   "language": "python",
   "name": "python3"
  },
  "language_info": {
   "codemirror_mode": {
    "name": "ipython",
    "version": 3
   },
   "file_extension": ".py",
   "mimetype": "text/x-python",
   "name": "python",
   "nbconvert_exporter": "python",
   "pygments_lexer": "ipython3",
   "version": "3.8.3"
  }
 },
 "nbformat": 4,
 "nbformat_minor": 2
}
