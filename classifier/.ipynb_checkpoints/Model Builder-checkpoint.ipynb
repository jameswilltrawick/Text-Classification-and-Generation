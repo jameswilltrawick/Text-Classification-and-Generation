{
 "cells": [
  {
   "cell_type": "code",
   "execution_count": 1,
   "metadata": {},
   "outputs": [],
   "source": [
    "from sklearn.feature_extraction.text import TfidfVectorizer\n",
    "import numpy as np\n",
    "import pandas as pd\n",
    "from sklearn.model_selection import KFold\n",
    "from sklearn.model_selection import GridSearchCV\n",
    "\n",
    "import nltk\n",
    "from nltk.util import ngrams"
   ]
  },
  {
   "cell_type": "code",
   "execution_count": 2,
   "metadata": {},
   "outputs": [],
   "source": [
    "def read_lyrics_data(file_name):\n",
    "    return pd.read_csv(file_name)"
   ]
  },
  {
   "cell_type": "markdown",
   "metadata": {},
   "source": [
    "# Model Builder"
   ]
  },
  {
   "cell_type": "code",
   "execution_count": 3,
   "metadata": {},
   "outputs": [],
   "source": [
    "def get_vocab_words(genre_df, max_features, ngram_range):\n",
    "    vocab_set = set()\n",
    "    vectorizer = TfidfVectorizer(max_features = max_features, ngram_range = ngram_range, max_df = .999, min_df = .00001,\\\n",
    "                                stop_words = 'english')\n",
    "    \n",
    "    vectorizer.fit_transform(genre_df.Lyrics)\n",
    "    genre_vocab = vectorizer.vocabulary_\n",
    "    vocab_set.update(set(genre_vocab.keys()))\n",
    "    return vocab_set"
   ]
  },
  {
   "cell_type": "code",
   "execution_count": 4,
   "metadata": {},
   "outputs": [],
   "source": [
    "from sklearn.linear_model import LogisticRegression\n",
    "def get_logistic_metrics(features, labels):\n",
    "    penalty = ['l1', 'l2']\n",
    "    regs = [2, 1, .1, .01]\n",
    "    \n",
    "    hyperparameters = dict(C=regs, penalty=penalty)\n",
    "    model = LogisticRegression(random_state=0, solver = 'saga',class_weight='balanced', multi_class='multinomial', \\\n",
    "                               max_iter=3000)\n",
    "    \n",
    "    clf = GridSearchCV(model, hyperparameters, cv=2, verbose=0, n_jobs = 5)\n",
    "    grid_model = clf.fit(features, labels)\n",
    "    return grid_model"
   ]
  },
  {
   "cell_type": "code",
   "execution_count": 5,
   "metadata": {},
   "outputs": [],
   "source": [
    "from sklearn.ensemble import RandomForestClassifier\n",
    "def get_forest_metrics(features, labels):\n",
    "    num_trees = [30, 40, 50]\n",
    "    max_features = ['sqrt', 'log2']\n",
    "    depth = [11, 13, 15]\n",
    "    \n",
    "    hyperparameters = dict(n_estimators=num_trees, max_depth=depth, max_features = max_features)\n",
    "    model = RandomForestClassifier(min_samples_leaf = int(.05 * len(labels)), random_state=0, class_weight='balanced')\n",
    "    \n",
    "    clf = GridSearchCV(model, hyperparameters, cv=2, verbose=0, n_jobs = 5)\n",
    "    grid_model = clf.fit(features, labels)\n",
    "    return grid_model"
   ]
  },
  {
   "cell_type": "code",
   "execution_count": 6,
   "metadata": {},
   "outputs": [],
   "source": [
    "def run_cross_validation(lyrics_df, ngram):\n",
    "    unique_genres = lyrics_df.Genre.unique()\n",
    "    \n",
    "    features = lyrics_df.Lyrics\n",
    "    labels = lyrics_df.Genre\n",
    "    vocab_set = set()\n",
    "    \n",
    "    for genre in unique_genres: # Get top phrases for each genre\n",
    "        genre_df = lyrics_df[lyrics_df.Genre == genre]\n",
    "        vocab = get_vocab_words(genre_df, 300, (ngram, ngram))\n",
    "        vocab_set.update(vocab)\n",
    "    \n",
    "    \n",
    "    vectorizer = TfidfVectorizer(ngram_range = (ngram, ngram), vocabulary = vocab_set, stop_words = 'english')\n",
    "    train_features = vectorizer.fit_transform(features)\n",
    "    \n",
    "    logistic_grid = get_logistic_metrics(train_features, labels)\n",
    "   \n",
    "    forest_grid = get_forest_metrics(train_features, labels)\n",
    "   \n",
    "    return logistic_grid, forest_grid"
   ]
  },
  {
   "cell_type": "code",
   "execution_count": null,
   "metadata": {},
   "outputs": [],
   "source": [
    "lyrics = read_lyrics_data(\"cleaned_lyrics.csv\")\n",
    "logistic_df = []\n",
    "forest_df = []\n",
    "\n",
    "for g in range(1, 7):\n",
    "    run_cross_validation(lyrics, g)\n",
    "    logistic_grid, forest_grid = run_cross_validation(lyrics, g)\n",
    "    \n",
    "    best_logistic = logistic_grid.best_params_\n",
    "    best_logistic['gram'] = g\n",
    "    best_logistic['score'] = logistic_grid.best_score_\n",
    "    logistic_df.append(best_logistic)\n",
    "    \n",
    "    best_forest = forest_grid.best_params_\n",
    "    best_forest['gram'] = g\n",
    "    best_forest['score'] = forest_grid.best_score_\n",
    "    forest_df.append(best_forest)"
   ]
  },
  {
   "cell_type": "code",
   "execution_count": null,
   "metadata": {},
   "outputs": [],
   "source": [
    "logistic_df = pd.DataFrame(logistic_df)\n",
    "logistic_df.to_csv(\"logistic_metrics.csv\", index = False)\n",
    "\n",
    "forest_df = pd.DataFrame(forest_df)\n",
    "forest_df.to_csv(\"forest_metrics.csv\", index = False)"
   ]
  },
  {
   "cell_type": "code",
   "execution_count": null,
   "metadata": {},
   "outputs": [],
   "source": []
  }
 ],
 "metadata": {
  "kernelspec": {
   "display_name": "Python 3",
   "language": "python",
   "name": "python3"
  },
  "language_info": {
   "codemirror_mode": {
    "name": "ipython",
    "version": 3
   },
   "file_extension": ".py",
   "mimetype": "text/x-python",
   "name": "python",
   "nbconvert_exporter": "python",
   "pygments_lexer": "ipython3",
   "version": "3.8.3"
  }
 },
 "nbformat": 4,
 "nbformat_minor": 2
}
