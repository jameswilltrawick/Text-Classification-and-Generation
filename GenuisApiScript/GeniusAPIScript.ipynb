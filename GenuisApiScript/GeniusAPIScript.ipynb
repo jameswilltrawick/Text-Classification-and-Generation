{
 "cells": [
  {
   "cell_type": "code",
   "execution_count": 6,
   "metadata": {},
   "outputs": [],
   "source": [
    "\n",
    "## Imports \n",
    "\n",
    "import pandas as pd\n",
    "import lyricsgenius\n",
    "import json\n",
    "\n",
    "\n",
    "## Load Data ---- Need any number of Artists with their genre to look up their songs in genius \n",
    "artistdata = pd.read_csv(\"Artists by Genre.csv\")\n",
    "\n",
    "\n",
    "## Initialize Data Frame\n",
    "columns = [\"artist\", \"genre\", \"song\", \"lyrics\"]\n",
    "df = pd.DataFrame(columns = columns)\n",
    "data1 = []\n",
    "dict1 = {}\n",
    "\n",
    "\n",
    "\n",
    "### Util Function\n",
    "def sanitize_filename(f):\n",
    "    keepchars = (\" \", \".\", \"_\")\n",
    "    return \"\".join(c for c in f if c.isalnum() or c in keepchars).rstrip()"
   ]
  },
  {
   "cell_type": "code",
   "execution_count": 7,
   "metadata": {
    "scrolled": false
   },
   "outputs": [],
   "source": [
    "### Input Genius API Key\n",
    "key = \"F4CU3dy2HaEawvSIDc7ISDsJP3RbHBuCGYyynmw03-XLEnYplx4zHjNiljNlRwrh\"\n",
    "\n",
    "\n",
    "\n",
    "### For every artist in data look up 5 of their songs in the genius API and save in DF\n",
    "for y in artistdata.iterrows():\n",
    "    artist = y[1][0]\n",
    "    genre = y[1][1]\n",
    "    n = y[0]\n",
    "    print(n)\n",
    "    genius = lyricsgenius.Genius(key)\n",
    "    artistsearch = genius.search_artist(artist, sort=\"popularity\", max_songs=5)\n",
    "    artistsearch.save_lyrics(filename = artist+\".json\")\n",
    "    \n",
    "    filename = artist+\".json\"\n",
    "    filename = sanitize_filename(filename)\n",
    "    \n",
    "    \n",
    "    with open(filename) as json_file:\n",
    "        data = json.load(json_file)\n",
    "    \n",
    "    for x in data[\"songs\"]:\n",
    "        \n",
    "        song = x[\"title\"]\n",
    "        lyrics = x[\"lyrics\"]\n",
    "        lyrics = lyrics.split(\"\\n\")\n",
    "        values = [artist, genre, song, lyrics]\n",
    "        \n",
    "        zipped = zip(columns, values)\n",
    "        dict1 = dict(zipped)\n",
    "        data1.append(dict1)\n",
    "\n",
    "df1 = pd.DataFrame(data1, columns = columns)    \n",
    "    \n",
    "    \n",
    "    "
   ]
  },
  {
   "cell_type": "code",
   "execution_count": 128,
   "metadata": {},
   "outputs": [],
   "source": [
    "## Clean up df and write to csv\n",
    "\n",
    "list1 = []\n",
    "list2 = []\n",
    "for x in df1[\"lyrics\"]:\n",
    "    list1 = []\n",
    "    for y in x:\n",
    "        if y != \"\":\n",
    "            list1.append(y)\n",
    "    list2.append(list1)\n",
    "    \n",
    "df1[\"editedlyrics\"] = list2\n",
    "df1.to_csv(\"7641LyricsData.csv\", encoding='utf-8-sig')"
   ]
  }
 ],
 "metadata": {
  "kernelspec": {
   "display_name": "Python 3",
   "language": "python",
   "name": "python3"
  },
  "language_info": {
   "codemirror_mode": {
    "name": "ipython",
    "version": 3
   },
   "file_extension": ".py",
   "mimetype": "text/x-python",
   "name": "python",
   "nbconvert_exporter": "python",
   "pygments_lexer": "ipython3",
   "version": "3.7.4"
  }
 },
 "nbformat": 4,
 "nbformat_minor": 2
}
